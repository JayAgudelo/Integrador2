{
 "cells": [
  {
   "cell_type": "code",
   "execution_count": 2,
   "id": "90286306",
   "metadata": {},
   "outputs": [],
   "source": [
    "%load_ext autoreload\n",
    "%autoreload 2\n",
    "\n",
    "import sys\n",
    "import os\n",
    "\n",
    "# Agregar la carpeta raíz del proyecto al path\n",
    "sys.path.append(os.path.dirname(os.getcwd()))"
   ]
  },
  {
   "cell_type": "code",
   "execution_count": 1,
   "id": "a09889f1",
   "metadata": {},
   "outputs": [
    {
     "name": "stdout",
     "output_type": "stream",
     "text": [
      "Cargando datos procesados...\n",
      "X_train: (333345, 43)\n",
      "X_test: (83336, 43)\n"
     ]
    }
   ],
   "source": [
    "import pandas as pd\n",
    "print(\"Cargando datos procesados...\")\n",
    "train_df = pd.read_csv('../temp/train_processed.csv')\n",
    "test_df = pd.read_csv('../temp/test_processed.csv')\n",
    "\n",
    "# 2. Separar X e y\n",
    "X_train = train_df.drop(columns=['popularity'])\n",
    "y_train = train_df['popularity']\n",
    "\n",
    "X_test = test_df.drop(columns=['popularity'])\n",
    "y_test = test_df['popularity']\n",
    "\n",
    "print(f\"X_train: {X_train.shape}\")\n",
    "print(f\"X_test: {X_test.shape}\")"
   ]
  },
  {
   "cell_type": "code",
   "execution_count": 3,
   "id": "eb53b2da",
   "metadata": {},
   "outputs": [
    {
     "name": "stdout",
     "output_type": "stream",
     "text": [
      "✓ ModelTrainer inicializado - Target: popularity\n",
      "  Train: 333,345 muestras, 43 features\n",
      "  Test: 83,336 muestras\n",
      "  Target range: [0.0, 96.0]\n",
      "  Target mean: 29.3 ± 15.8\n"
     ]
    }
   ],
   "source": [
    "from helpers.trainer import ModelTrainer\n",
    "trainer = ModelTrainer(\n",
    "    X_train=X_train,\n",
    "    X_test=X_test,\n",
    "    y_train=y_train,\n",
    "    y_test=y_test,\n",
    "    target_col='popularity'\n",
    ")"
   ]
  },
  {
   "cell_type": "code",
   "execution_count": null,
   "id": "ea01a8ec",
   "metadata": {},
   "outputs": [],
   "source": [
    "custom_grid = {\n",
    "    'n_estimators': [200, 300],\n",
    "    'learning_rate': [0.05, 0.1],\n",
    "    'max_depth': [5, 7]\n",
    "} # Pueden configurar esta grid como deseen o quitarla para usar la por defecto"
   ]
  },
  {
   "cell_type": "code",
   "execution_count": null,
   "id": "316f75d5",
   "metadata": {},
   "outputs": [
    {
     "name": "stdout",
     "output_type": "stream",
     "text": [
      "\n",
      "================================================================================\n",
      "ENTRENANDO: LIGHTGBM\n",
      "================================================================================\n",
      "Grid de búsqueda:\n",
      "  n_estimators: [200, 300]\n",
      "  learning_rate: [0.05, 0.1]\n",
      "  max_depth: [5, 7]\n",
      "\n",
      " Buscando mejores hiperparámetros con 5-Fold CV...\n",
      "  Total combinaciones: 8\n",
      "\n",
      "  [1/8] Probando: {'n_estimators': 200, 'learning_rate': 0.05, 'max_depth': 5}\n",
      "    MSE CV: 159.9388 (±0.9568)\n",
      "    ✓ Nuevo mejor score: 159.9388\n",
      "\n",
      "  [2/8] Probando: {'n_estimators': 200, 'learning_rate': 0.05, 'max_depth': 7}\n",
      "    MSE CV: 156.4456 (±0.8833)\n",
      "    ✓ Nuevo mejor score: 156.4456\n",
      "\n",
      "  [3/8] Probando: {'n_estimators': 200, 'learning_rate': 0.1, 'max_depth': 5}\n",
      "    MSE CV: 155.0366 (±0.9168)\n",
      "    ✓ Nuevo mejor score: 155.0366\n",
      "\n",
      "  [4/8] Probando: {'n_estimators': 200, 'learning_rate': 0.1, 'max_depth': 7}\n",
      "    MSE CV: 153.3671 (±0.7628)\n",
      "    ✓ Nuevo mejor score: 153.3671\n",
      "\n",
      "  [5/8] Probando: {'n_estimators': 300, 'learning_rate': 0.05, 'max_depth': 5}\n",
      "    MSE CV: 156.8277 (±0.9212)\n",
      "\n",
      "  [6/8] Probando: {'n_estimators': 300, 'learning_rate': 0.05, 'max_depth': 7}\n",
      "    MSE CV: 154.2129 (±0.8741)\n",
      "\n",
      "  [7/8] Probando: {'n_estimators': 300, 'learning_rate': 0.1, 'max_depth': 5}\n",
      "    MSE CV: 153.1938 (±0.8096)\n",
      "    ✓ Nuevo mejor score: 153.1938\n",
      "\n",
      "  [8/8] Probando: {'n_estimators': 300, 'learning_rate': 0.1, 'max_depth': 7}\n",
      "    MSE CV: 152.2869 (±0.8037)\n",
      "    ✓ Nuevo mejor score: 152.2869\n",
      "\n",
      "✓ Mejores parámetros encontrados: {'n_estimators': 300, 'learning_rate': 0.1, 'max_depth': 7}\n",
      "✓ Mejor MSE en CV: 152.2869\n",
      "\n",
      " Reentrenando en train completo (333,345 muestras)...\n",
      "✓ Reentrenamiento completado\n",
      "\n",
      "Métricas en Train Set:\n",
      "  MSE: 146.4071\n",
      "  RMSE: 12.0999\n",
      "  MAE: 9.5824\n",
      "  R²: 0.4108\n",
      "\n",
      "Métricas en Test Set (evaluación final):\n",
      "  MSE: 153.4098\n",
      "  RMSE: 12.3859\n",
      "  MAE: 9.7752\n",
      "  R²: 0.3848\n",
      "\n",
      "Tiempo total: 70.7s\n"
     ]
    },
    {
     "data": {
      "text/plain": [
       "{'model_name': 'lightgbm',\n",
       " 'best_params': {'n_estimators': 300, 'learning_rate': 0.1, 'max_depth': 7},\n",
       " 'cv_score': np.float64(152.28688460373036),\n",
       " 'train_metrics': {'mse': 146.40711689297137,\n",
       "  'rmse': np.float64(12.09988086275941),\n",
       "  'mae': 9.582380082679432,\n",
       "  'r2': 0.41081464111770616},\n",
       " 'test_metrics': {'mse': 153.40976934077787,\n",
       "  'rmse': np.float64(12.385869745027108),\n",
       "  'mae': 9.775195172950978,\n",
       "  'r2': 0.3848167272638964},\n",
       " 'training_time': 70.674343,\n",
       " 'model': LGBMRegressor(max_depth=7, n_estimators=300, n_jobs=-1, random_state=42,\n",
       "               verbose=-1)}"
      ]
     },
     "execution_count": 9,
     "metadata": {},
     "output_type": "execute_result"
    }
   ],
   "source": [
    "trainer.train_model(\n",
    "    model_name='lightgbm',\n",
    "    cv=5,\n",
    "    param_grid=custom_grid, # Pueden pasar custom_grid o None para usar la grid por defecto\n",
    ")"
   ]
  },
  {
   "cell_type": "code",
   "execution_count": 10,
   "id": "1da4be89",
   "metadata": {},
   "outputs": [
    {
     "name": "stdout",
     "output_type": "stream",
     "text": [
      "dict_keys(['lightgbm'])\n"
     ]
    }
   ],
   "source": [
    "print(trainer.results.keys())  #Debe incluir el modelo entrenado"
   ]
  },
  {
   "cell_type": "code",
   "execution_count": 11,
   "id": "7d3c2b76",
   "metadata": {},
   "outputs": [
    {
     "name": "stdout",
     "output_type": "stream",
     "text": [
      "XGBoost CV MSE: 152.2869\n",
      "XGBoost Test R²: 0.3848\n"
     ]
    }
   ],
   "source": [
    "results = trainer.results['lightgbm'] #No da error si el modelo fue entrenado correctamente\n",
    "print(f\"XGBoost CV MSE: {results['cv_score']:.4f}\")\n",
    "print(f\"XGBoost Test R²: {results['test_metrics']['r2']:.4f}\")"
   ]
  }
 ],
 "metadata": {
  "kernelspec": {
   "display_name": "Python 3",
   "language": "python",
   "name": "python3"
  },
  "language_info": {
   "codemirror_mode": {
    "name": "ipython",
    "version": 3
   },
   "file_extension": ".py",
   "mimetype": "text/x-python",
   "name": "python",
   "nbconvert_exporter": "python",
   "pygments_lexer": "ipython3",
   "version": "3.10.4"
  }
 },
 "nbformat": 4,
 "nbformat_minor": 5
}
